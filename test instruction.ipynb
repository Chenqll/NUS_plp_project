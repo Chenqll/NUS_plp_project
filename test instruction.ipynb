{
 "cells": [
  {
   "cell_type": "code",
   "execution_count": 1,
   "metadata": {},
   "outputs": [],
   "source": [
    "import pandas as pd\n",
    "import os\n",
    "import json"
   ]
  },
  {
   "cell_type": "code",
   "execution_count": 2,
   "metadata": {},
   "outputs": [],
   "source": [
    "os.chdir(\"/Users/wq/Desktop/plp_Dataset\")"
   ]
  },
  {
   "cell_type": "code",
   "execution_count": 36,
   "metadata": {},
   "outputs": [],
   "source": [
    "train_book = pd.read_csv(\"plp_book50.txt\",header=None)\n",
    "test_book = pd.read_csv(\"test_book10.txt\",header=None)\n",
    "test_instruct = pd.read_csv(\"test instruction_120.txt\",sep=\"?\",header=None)"
   ]
  },
  {
   "cell_type": "code",
   "execution_count": 37,
   "metadata": {},
   "outputs": [
    {
     "data": {
      "text/plain": [
       "60"
      ]
     },
     "execution_count": 37,
     "metadata": {},
     "output_type": "execute_result"
    }
   ],
   "source": [
    "book = list(train_book[0]) + list(test_book[0])\n",
    "len(book)"
   ]
  },
  {
   "cell_type": "code",
   "execution_count": 38,
   "metadata": {},
   "outputs": [
    {
     "data": {
      "text/plain": [
       "120"
      ]
     },
     "execution_count": 38,
     "metadata": {},
     "output_type": "execute_result"
    }
   ],
   "source": [
    "test_instruct = list(test_instruct[0])\n",
    "len(test_instruct)"
   ]
  },
  {
   "cell_type": "code",
   "execution_count": 40,
   "metadata": {},
   "outputs": [],
   "source": [
    "results = []\n",
    "for b in book:\n",
    "    i = book.index(b)\n",
    "    intro = (\"You are the Chatbot of a book seller, a potential book purchaser want to ask you some questions to know better about the book: %s. Please answer these questions with good logic and languages(within 150 words), just like you are chatting with the purchaser:\" %(b))\n",
    "    ins_list = test_instruct[i*2:(i*2)+2]\n",
    "    for ins in ins_list:\n",
    "        ins = intro + \" \" + ins\n",
    "\n",
    "        result = {\n",
    "        \"instruction\": ins,\n",
    "        \"input\": \"\",\n",
    "        \"output\": \"\",\n",
    "        }\n",
    "        \n",
    "        results.append(result)\n"
   ]
  },
  {
   "cell_type": "code",
   "execution_count": 41,
   "metadata": {},
   "outputs": [
    {
     "data": {
      "text/plain": [
       "120"
      ]
     },
     "execution_count": 41,
     "metadata": {},
     "output_type": "execute_result"
    }
   ],
   "source": [
    "len(results)"
   ]
  },
  {
   "cell_type": "code",
   "execution_count": 43,
   "metadata": {},
   "outputs": [],
   "source": [
    "with open(\"test instructions_book60.json\", \"w\", encoding=\"utf-8\") as f:\n",
    "    json.dump(results, f, ensure_ascii=False)"
   ]
  }
 ],
 "metadata": {
  "kernelspec": {
   "display_name": "Python 3",
   "language": "python",
   "name": "python3"
  },
  "language_info": {
   "codemirror_mode": {
    "name": "ipython",
    "version": 3
   },
   "file_extension": ".py",
   "mimetype": "text/x-python",
   "name": "python",
   "nbconvert_exporter": "python",
   "pygments_lexer": "ipython3",
   "version": "3.9.6"
  },
  "orig_nbformat": 4
 },
 "nbformat": 4,
 "nbformat_minor": 2
}
