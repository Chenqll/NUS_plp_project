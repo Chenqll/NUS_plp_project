{
 "cells": [
  {
   "cell_type": "code",
   "execution_count": 42,
   "metadata": {},
   "outputs": [],
   "source": [
    "import json\n",
    "import os"
   ]
  },
  {
   "cell_type": "code",
   "execution_count": 43,
   "metadata": {},
   "outputs": [],
   "source": [
    "os.chdir(\"/Users/wq/Desktop/plp_Dataset/output\")"
   ]
  },
  {
   "cell_type": "code",
   "execution_count": 44,
   "metadata": {},
   "outputs": [],
   "source": [
    "# Load the original JSON dataset\n",
    "with open('1-50.json', 'r') as f:\n",
    "    data = json.load(f)"
   ]
  },
  {
   "cell_type": "code",
   "execution_count": 45,
   "metadata": {},
   "outputs": [
    {
     "data": {
      "text/plain": [
       "{'instruction': 'You are the Chatbot of a book seller, a potential book purchaser want to ask you some questions to know better about the book: David Copperfield written by Charles Dickens. Please answer these questions with good logic and languages(within 150 words), just like you are chatting with the purchaser:  Could you summarize the key themes presented in this book',\n",
       " 'input': '',\n",
       " 'output': \"?\\n\\nDavid Copperfield is a novel that explores the themes of identity, family, and social class. The story is about a young boy named David, who grows up in poverty and faces many challenges throughout his life. One of the major themes of the book is the search for identity, as David struggles to find his place in the world and understand who he truly is. The novel also delves into the complexities of family relationships, as David experiences both the love and the betrayal of those closest to him. Another key theme in the novel is the impact of social class on people's lives, as David moves between different social circles and observes the prejudices and injustices that exist within each. Overall, David Copperfield is a rich and complex novel that explores some of the most fundamental aspects of human experience.\"}"
      ]
     },
     "execution_count": 45,
     "metadata": {},
     "output_type": "execute_result"
    }
   ],
   "source": [
    "data[0]"
   ]
  },
  {
   "cell_type": "code",
   "execution_count": 46,
   "metadata": {},
   "outputs": [],
   "source": [
    "results = []\n",
    "for i in data:\n",
    "    instruction_text = i[\"instruction\"]\n",
    "    # Split the instruction by the last colon\n",
    "    ins, input = instruction_text.rsplit(':', 1)\n",
    "    # Strip any leading or trailing whitespace\n",
    "    ins = ins.strip()\n",
    "    input = input.strip()\n",
    "\n",
    "    # Create a new JSON dataset with the updated input field\n",
    "    new_data = {\n",
    "        'instruction': ins,\n",
    "        'input': input,\n",
    "        'output': i['output']\n",
    "        }\n",
    "    results.append(new_data)\n"
   ]
  },
  {
   "cell_type": "code",
   "execution_count": 47,
   "metadata": {},
   "outputs": [],
   "source": [
    "# Save the new JSON dataset\n",
    "with open('1-50_new.json', 'w') as f:\n",
    "    json.dump(results, f)"
   ]
  }
 ],
 "metadata": {
  "kernelspec": {
   "display_name": "Python 3",
   "language": "python",
   "name": "python3"
  },
  "language_info": {
   "codemirror_mode": {
    "name": "ipython",
    "version": 3
   },
   "file_extension": ".py",
   "mimetype": "text/x-python",
   "name": "python",
   "nbconvert_exporter": "python",
   "pygments_lexer": "ipython3",
   "version": "3.9.6"
  },
  "orig_nbformat": 4
 },
 "nbformat": 4,
 "nbformat_minor": 2
}
