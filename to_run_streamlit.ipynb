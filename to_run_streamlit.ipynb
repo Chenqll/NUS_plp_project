{
 "cells": [
  {
   "cell_type": "markdown",
   "id": "92254595",
   "metadata": {},
   "source": [
    "Install streamlit"
   ]
  },
  {
   "cell_type": "code",
   "execution_count": null,
   "id": "d6047efe",
   "metadata": {},
   "outputs": [],
   "source": [
    "!pip install streamlit"
   ]
  },
  {
   "cell_type": "markdown",
   "id": "bd225eac",
   "metadata": {},
   "source": [
    "To test whether successfully installed, enter the following in terminal:"
   ]
  },
  {
   "cell_type": "code",
   "execution_count": null,
   "id": "a35284f1",
   "metadata": {},
   "outputs": [],
   "source": [
    "streamtlit hello"
   ]
  },
  {
   "cell_type": "markdown",
   "id": "88db6d53",
   "metadata": {},
   "source": [
    "Open a new terminal, change to the directory where you stored the streamlit app python file"
   ]
  },
  {
   "cell_type": "code",
   "execution_count": null,
   "id": "3b912fd7",
   "metadata": {},
   "outputs": [],
   "source": [
    "cd path"
   ]
  },
  {
   "cell_type": "markdown",
   "id": "8b9c4e2a",
   "metadata": {},
   "source": [
    "To run the chatbot UI, first need to install:"
   ]
  },
  {
   "cell_type": "code",
   "execution_count": 2,
   "id": "545cf252",
   "metadata": {},
   "outputs": [
    {
     "name": "stdout",
     "output_type": "stream",
     "text": [
      "Collecting streamlit_chat\n",
      "  Downloading streamlit_chat-0.0.2.2-py3-none-any.whl (1.7 MB)\n",
      "\u001b[K     |████████████████████████████████| 1.7 MB 8.2 MB/s eta 0:00:01\n",
      "\u001b[?25hRequirement already satisfied: streamlit>=0.63 in /Users/shen1/opt/anaconda3/lib/python3.9/site-packages (from streamlit_chat) (1.20.0)\n",
      "Requirement already satisfied: semver in /Users/shen1/opt/anaconda3/lib/python3.9/site-packages (from streamlit>=0.63->streamlit_chat) (2.13.0)\n",
      "Requirement already satisfied: toml in /Users/shen1/opt/anaconda3/lib/python3.9/site-packages (from streamlit>=0.63->streamlit_chat) (0.10.2)\n",
      "Requirement already satisfied: validators>=0.2 in /Users/shen1/opt/anaconda3/lib/python3.9/site-packages (from streamlit>=0.63->streamlit_chat) (0.20.0)\n",
      "Requirement already satisfied: typing-extensions>=3.10.0.0 in /Users/shen1/opt/anaconda3/lib/python3.9/site-packages (from streamlit>=0.63->streamlit_chat) (4.5.0)\n",
      "Requirement already satisfied: altair<5,>=3.2.0 in /Users/shen1/opt/anaconda3/lib/python3.9/site-packages (from streamlit>=0.63->streamlit_chat) (4.2.2)\n",
      "Requirement already satisfied: blinker>=1.0.0 in /Users/shen1/opt/anaconda3/lib/python3.9/site-packages (from streamlit>=0.63->streamlit_chat) (1.5)\n",
      "Requirement already satisfied: pyarrow>=4.0 in /Users/shen1/opt/anaconda3/lib/python3.9/site-packages (from streamlit>=0.63->streamlit_chat) (11.0.0)\n",
      "Requirement already satisfied: click>=7.0 in /Users/shen1/opt/anaconda3/lib/python3.9/site-packages (from streamlit>=0.63->streamlit_chat) (8.0.4)\n",
      "Requirement already satisfied: numpy in /Users/shen1/opt/anaconda3/lib/python3.9/site-packages (from streamlit>=0.63->streamlit_chat) (1.21.5)\n",
      "Requirement already satisfied: rich>=10.11.0 in /Users/shen1/opt/anaconda3/lib/python3.9/site-packages (from streamlit>=0.63->streamlit_chat) (13.3.2)\n",
      "Requirement already satisfied: python-dateutil in /Users/shen1/opt/anaconda3/lib/python3.9/site-packages (from streamlit>=0.63->streamlit_chat) (2.8.2)\n",
      "Requirement already satisfied: cachetools>=4.0 in /Users/shen1/opt/anaconda3/lib/python3.9/site-packages (from streamlit>=0.63->streamlit_chat) (4.2.2)\n",
      "Requirement already satisfied: requests>=2.4 in /Users/shen1/opt/anaconda3/lib/python3.9/site-packages (from streamlit>=0.63->streamlit_chat) (2.27.1)\n",
      "Requirement already satisfied: tzlocal>=1.1 in /Users/shen1/opt/anaconda3/lib/python3.9/site-packages (from streamlit>=0.63->streamlit_chat) (4.3)\n",
      "Requirement already satisfied: gitpython!=3.1.19 in /Users/shen1/opt/anaconda3/lib/python3.9/site-packages (from streamlit>=0.63->streamlit_chat) (3.1.31)\n",
      "Requirement already satisfied: pandas<2,>=0.25 in /Users/shen1/opt/anaconda3/lib/python3.9/site-packages (from streamlit>=0.63->streamlit_chat) (1.4.2)\n",
      "Requirement already satisfied: tornado>=6.0.3 in /Users/shen1/opt/anaconda3/lib/python3.9/site-packages (from streamlit>=0.63->streamlit_chat) (6.1)\n",
      "Requirement already satisfied: pydeck>=0.1.dev5 in /Users/shen1/opt/anaconda3/lib/python3.9/site-packages (from streamlit>=0.63->streamlit_chat) (0.8.0)\n",
      "Requirement already satisfied: protobuf<4,>=3.12 in /Users/shen1/opt/anaconda3/lib/python3.9/site-packages (from streamlit>=0.63->streamlit_chat) (3.19.1)\n",
      "Requirement already satisfied: pillow>=6.2.0 in /Users/shen1/opt/anaconda3/lib/python3.9/site-packages (from streamlit>=0.63->streamlit_chat) (9.0.1)\n",
      "Requirement already satisfied: packaging>=14.1 in /Users/shen1/opt/anaconda3/lib/python3.9/site-packages (from streamlit>=0.63->streamlit_chat) (21.3)\n",
      "Requirement already satisfied: pympler>=0.9 in /Users/shen1/opt/anaconda3/lib/python3.9/site-packages (from streamlit>=0.63->streamlit_chat) (1.0.1)\n",
      "Requirement already satisfied: importlib-metadata>=1.4 in /Users/shen1/opt/anaconda3/lib/python3.9/site-packages (from streamlit>=0.63->streamlit_chat) (4.11.3)\n",
      "Requirement already satisfied: jsonschema>=3.0 in /Users/shen1/opt/anaconda3/lib/python3.9/site-packages (from altair<5,>=3.2.0->streamlit>=0.63->streamlit_chat) (4.4.0)\n",
      "Requirement already satisfied: jinja2 in /Users/shen1/opt/anaconda3/lib/python3.9/site-packages (from altair<5,>=3.2.0->streamlit>=0.63->streamlit_chat) (2.11.3)\n",
      "Requirement already satisfied: toolz in /Users/shen1/opt/anaconda3/lib/python3.9/site-packages (from altair<5,>=3.2.0->streamlit>=0.63->streamlit_chat) (0.11.2)\n",
      "Requirement already satisfied: entrypoints in /Users/shen1/opt/anaconda3/lib/python3.9/site-packages (from altair<5,>=3.2.0->streamlit>=0.63->streamlit_chat) (0.4)\n",
      "Requirement already satisfied: gitdb<5,>=4.0.1 in /Users/shen1/opt/anaconda3/lib/python3.9/site-packages (from gitpython!=3.1.19->streamlit>=0.63->streamlit_chat) (4.0.10)\n",
      "Requirement already satisfied: smmap<6,>=3.0.1 in /Users/shen1/opt/anaconda3/lib/python3.9/site-packages (from gitdb<5,>=4.0.1->gitpython!=3.1.19->streamlit>=0.63->streamlit_chat) (5.0.0)\n",
      "Requirement already satisfied: zipp>=0.5 in /Users/shen1/opt/anaconda3/lib/python3.9/site-packages (from importlib-metadata>=1.4->streamlit>=0.63->streamlit_chat) (3.7.0)\n",
      "Requirement already satisfied: pyrsistent!=0.17.0,!=0.17.1,!=0.17.2,>=0.14.0 in /Users/shen1/opt/anaconda3/lib/python3.9/site-packages (from jsonschema>=3.0->altair<5,>=3.2.0->streamlit>=0.63->streamlit_chat) (0.18.0)\n",
      "Requirement already satisfied: attrs>=17.4.0 in /Users/shen1/opt/anaconda3/lib/python3.9/site-packages (from jsonschema>=3.0->altair<5,>=3.2.0->streamlit>=0.63->streamlit_chat) (21.4.0)\n",
      "Requirement already satisfied: pyparsing!=3.0.5,>=2.0.2 in /Users/shen1/opt/anaconda3/lib/python3.9/site-packages (from packaging>=14.1->streamlit>=0.63->streamlit_chat) (3.0.4)\n",
      "Requirement already satisfied: pytz>=2020.1 in /Users/shen1/opt/anaconda3/lib/python3.9/site-packages (from pandas<2,>=0.25->streamlit>=0.63->streamlit_chat) (2021.3)\n",
      "Requirement already satisfied: MarkupSafe>=0.23 in /Users/shen1/opt/anaconda3/lib/python3.9/site-packages (from jinja2->altair<5,>=3.2.0->streamlit>=0.63->streamlit_chat) (2.0.1)\n",
      "Requirement already satisfied: six>=1.5 in /Users/shen1/opt/anaconda3/lib/python3.9/site-packages (from python-dateutil->streamlit>=0.63->streamlit_chat) (1.16.0)\n",
      "Requirement already satisfied: charset-normalizer~=2.0.0 in /Users/shen1/opt/anaconda3/lib/python3.9/site-packages (from requests>=2.4->streamlit>=0.63->streamlit_chat) (2.0.4)\n",
      "Requirement already satisfied: urllib3<1.27,>=1.21.1 in /Users/shen1/opt/anaconda3/lib/python3.9/site-packages (from requests>=2.4->streamlit>=0.63->streamlit_chat) (1.26.9)\n",
      "Requirement already satisfied: idna<4,>=2.5 in /Users/shen1/opt/anaconda3/lib/python3.9/site-packages (from requests>=2.4->streamlit>=0.63->streamlit_chat) (3.3)\n",
      "Requirement already satisfied: certifi>=2017.4.17 in /Users/shen1/opt/anaconda3/lib/python3.9/site-packages (from requests>=2.4->streamlit>=0.63->streamlit_chat) (2022.9.24)\n",
      "Requirement already satisfied: pygments<3.0.0,>=2.13.0 in /Users/shen1/opt/anaconda3/lib/python3.9/site-packages (from rich>=10.11.0->streamlit>=0.63->streamlit_chat) (2.14.0)\n",
      "Requirement already satisfied: markdown-it-py<3.0.0,>=2.2.0 in /Users/shen1/opt/anaconda3/lib/python3.9/site-packages (from rich>=10.11.0->streamlit>=0.63->streamlit_chat) (2.2.0)\n",
      "Requirement already satisfied: mdurl~=0.1 in /Users/shen1/opt/anaconda3/lib/python3.9/site-packages (from markdown-it-py<3.0.0,>=2.2.0->rich>=10.11.0->streamlit>=0.63->streamlit_chat) (0.1.2)\n",
      "Requirement already satisfied: pytz-deprecation-shim in /Users/shen1/opt/anaconda3/lib/python3.9/site-packages (from tzlocal>=1.1->streamlit>=0.63->streamlit_chat) (0.1.0.post0)\n",
      "Requirement already satisfied: decorator>=3.4.0 in /Users/shen1/opt/anaconda3/lib/python3.9/site-packages (from validators>=0.2->streamlit>=0.63->streamlit_chat) (5.1.1)\n",
      "Requirement already satisfied: tzdata in /Users/shen1/opt/anaconda3/lib/python3.9/site-packages (from pytz-deprecation-shim->tzlocal>=1.1->streamlit>=0.63->streamlit_chat) (2022.7)\n",
      "Installing collected packages: streamlit-chat\n",
      "Successfully installed streamlit-chat-0.0.2.2\n"
     ]
    }
   ],
   "source": [
    "!pip install streamlit_chat"
   ]
  },
  {
   "cell_type": "code",
   "execution_count": 3,
   "id": "3ee644b9",
   "metadata": {},
   "outputs": [
    {
     "name": "stdout",
     "output_type": "stream",
     "text": [
      "Requirement already satisfied: requests in /Users/shen1/opt/anaconda3/lib/python3.9/site-packages (2.27.1)\n",
      "Requirement already satisfied: charset-normalizer~=2.0.0 in /Users/shen1/opt/anaconda3/lib/python3.9/site-packages (from requests) (2.0.4)\n",
      "Requirement already satisfied: urllib3<1.27,>=1.21.1 in /Users/shen1/opt/anaconda3/lib/python3.9/site-packages (from requests) (1.26.9)\n",
      "Requirement already satisfied: certifi>=2017.4.17 in /Users/shen1/opt/anaconda3/lib/python3.9/site-packages (from requests) (2022.9.24)\n",
      "Requirement already satisfied: idna<4,>=2.5 in /Users/shen1/opt/anaconda3/lib/python3.9/site-packages (from requests) (3.3)\n"
     ]
    }
   ],
   "source": [
    "!pip install requests"
   ]
  },
  {
   "cell_type": "markdown",
   "id": "4685b99b",
   "metadata": {},
   "source": [
    "To run the streamlit app on local host, copy the following to the terminal (in the directory where you stored the streamlit app python file):"
   ]
  },
  {
   "cell_type": "code",
   "execution_count": null,
   "id": "e1953327",
   "metadata": {},
   "outputs": [],
   "source": [
    "streamlit run SalesChatbot_beggar_v.py"
   ]
  }
 ],
 "metadata": {
  "kernelspec": {
   "display_name": "Python 3 (ipykernel)",
   "language": "python",
   "name": "python3"
  },
  "language_info": {
   "codemirror_mode": {
    "name": "ipython",
    "version": 3
   },
   "file_extension": ".py",
   "mimetype": "text/x-python",
   "name": "python",
   "nbconvert_exporter": "python",
   "pygments_lexer": "ipython3",
   "version": "3.9.12"
  }
 },
 "nbformat": 4,
 "nbformat_minor": 5
}
